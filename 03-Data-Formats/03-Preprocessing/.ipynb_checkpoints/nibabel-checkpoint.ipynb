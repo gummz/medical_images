{
 "cells": [
  {
   "cell_type": "markdown",
   "id": "changed-multiple",
   "metadata": {},
   "source": [
    "In this notebook we will take a look at the nibabel python package which allows handling *nii.gz files.\n",
    "\n",
    "First we import the necessary packages and use the matplotlib inline magic command for convenient plotting\n",
    "\n",
    "1. nilearn.datasets to obtain the data\n",
    "2. nibabel to handle nifti files\n",
    "3. matplotlib to plot the brain images\n",
    "4. The clear output function to get a nice visualization of the mri scans\n",
    "5. rot90 from numpy to rotate the scans\n"
   ]
  },
  {
   "cell_type": "code",
   "execution_count": 82,
   "id": "opened-discussion",
   "metadata": {},
   "outputs": [],
   "source": [
    "%config Completer.use_jedi = False\n",
    "%matplotlib inline\n",
    "\n",
    "import nibabel as nib\n",
    "import nilearn.datasets\n",
    "import matplotlib.pyplot as plt\n",
    "from IPython.display import clear_output\n",
    "from numpy import rot90\n"
   ]
  },
  {
   "cell_type": "markdown",
   "id": "second-crawford",
   "metadata": {},
   "source": [
    "We use the oasis brains dataset (https://www.oasis-brains.org/#data) published by D. Marcus, R, Buckner, J, Csernansky J. Morris\n",
    "\n",
    "One can directly obtain the data by using *nilearn.datasets.fetch_oasis_vbm()*"
   ]
  },
  {
   "cell_type": "code",
   "execution_count": 27,
   "id": "favorite-nightlife",
   "metadata": {},
   "outputs": [
    {
     "name": "stderr",
     "output_type": "stream",
     "text": [
      "/home/marci/.pyenv/versions/udemy/lib/python3.8/site-packages/numpy/lib/npyio.py:2405: VisibleDeprecationWarning: Reading unicode strings without specifying the encoding argument is deprecated. Set the encoding, use None for the system default.\n",
      "  output = genfromtxt(fname, **kwargs)\n"
     ]
    }
   ],
   "source": [
    "data = nilearn.datasets.fetch_oasis_vbm(n_subjects=1)"
   ]
  },
  {
   "cell_type": "markdown",
   "id": "loose-implement",
   "metadata": {},
   "source": [
    "The path to the brain scan is stored in the **gray_matter_maps** attribute of the data object"
   ]
  },
  {
   "cell_type": "code",
   "execution_count": 87,
   "id": "animated-newark",
   "metadata": {},
   "outputs": [
    {
     "data": {
      "text/plain": [
       "{'gray_matter_maps': ['/home/marci/nilearn_data/oasis1/OAS1_0001_MR1/mwrc1OAS1_0001_MR1_mpr_anon_fslswapdim_bet.nii.gz'],\n",
       " 'white_matter_maps': ['/home/marci/nilearn_data/oasis1/OAS1_0001_MR1/mwrc2OAS1_0001_MR1_mpr_anon_fslswapdim_bet.nii.gz'],\n",
       " 'ext_vars': rec.array([(b'OAS1_0001_MR1', b'F', b'R', 74, 2, 3, 29, 0., 1344, 0.743, 1.306, b'N/A')],\n",
       "           dtype=[('id', 'S13'), ('mf', 'S1'), ('hand', 'S1'), ('age', '<i8'), ('educ', '<i8'), ('ses', '<i8'), ('mmse', '<i8'), ('cdr', '<f8'), ('etiv', '<i8'), ('nwbv', '<f8'), ('asf', '<f8'), ('delay', 'S3')]),\n",
       " 'data_usage_agreement': '/home/marci/nilearn_data/oasis1/data_usage_agreement.txt',\n",
       " 'description': b\"Oasis\\n\\n\\nNotes\\n-----\\n\\nThe Open Access Series of Imaging Studies (OASIS) is a project aimed\\nat making MRI data sets of the brain freely available to the scientific community.\\n\\nOASIS is made available by the Washington University Alzheimer\\xe2\\x80\\x99s Disease\\nResearch Center, Dr. Randy Buckner at the Howard Hughes Medical\\nInstitute (HHMI) at Harvard University, the Neuroinformatics Research\\nGroup (NRG) at Washington University School of Medicine, and the Biomedical\\nInformatics Research Network (BIRN).\\n\\n\\nContent\\n-------\\n    :'gray_matter_maps': Nifti images with gray matter density probability\\n    :'white_matter_maps': Nifti images with white matter density probability maps\\n    :'ext_vars': Behavioral information on the participants\\n    :'data_usage_agreement': Text file containing the data usage agreement\\n\\n\\nReferences\\n----------\\nFor more information about this dataset's structure:\\nhttp://www.oasis-brains.org/\\n\\nOpen Access Series of Imaging Studies (OASIS): Cross-sectional MRI\\nData in Young, Middle Aged, Nondemented, and Demented Older Adults.\\nMarcus, D. S and al., 2007, Journal of Cognitive Neuroscience.\\n\\n\\nLicence: provided under an open access data use agreement (DUA).\"}"
      ]
     },
     "execution_count": 87,
     "metadata": {},
     "output_type": "execute_result"
    }
   ],
   "source": [
    "data"
   ]
  },
  {
   "cell_type": "code",
   "execution_count": 97,
   "id": "adjacent-harrison",
   "metadata": {},
   "outputs": [
    {
     "name": "stdout",
     "output_type": "stream",
     "text": [
      "/home/marci/nilearn_data/oasis1/OAS1_0001_MR1/mwrc1OAS1_0001_MR1_mpr_anon_fslswapdim_bet.nii.gz\n"
     ]
    }
   ],
   "source": [
    "path_to_brain = data.gray_matter_maps[0]\n",
    "print(path_to_brain)"
   ]
  },
  {
   "cell_type": "markdown",
   "id": "ancient-victor",
   "metadata": {},
   "source": [
    "This file contains the complete 3D mri scan! <br />\n",
    "We can load it by using *nib.load(path)*\n",
    "\n",
    "You can print this object to obtain all kinds of information about it e.g \n",
    "1. Shape\n",
    "2. Affine Matrix\n",
    "3. Offsets"
   ]
  },
  {
   "cell_type": "code",
   "execution_count": 98,
   "id": "intermediate-rubber",
   "metadata": {},
   "outputs": [
    {
     "name": "stdout",
     "output_type": "stream",
     "text": [
      "<class 'nibabel.nifti1.Nifti1Image'>\n",
      "data shape (91, 109, 91)\n",
      "affine: \n",
      "[[  -2.    0.    0.   90.]\n",
      " [   0.    2.    0. -126.]\n",
      " [   0.    0.    2.  -72.]\n",
      " [   0.    0.    0.    1.]]\n",
      "metadata:\n",
      "<class 'nibabel.nifti1.Nifti1Header'> object, endian='<'\n",
      "sizeof_hdr      : 348\n",
      "data_type       : b''\n",
      "db_name         : b''\n",
      "extents         : 0\n",
      "session_error   : 0\n",
      "regular         : b''\n",
      "dim_info        : 0\n",
      "dim             : [  3  91 109  91   1   1   1   1]\n",
      "intent_p1       : 0.0\n",
      "intent_p2       : 0.0\n",
      "intent_p3       : 0.0\n",
      "intent_code     : none\n",
      "datatype        : float32\n",
      "bitpix          : 32\n",
      "slice_start     : 0\n",
      "pixdim          : [-1.  2.  2.  2.  1.  1.  1.  1.]\n",
      "vox_offset      : 0.0\n",
      "scl_slope       : nan\n",
      "scl_inter       : nan\n",
      "slice_end       : 0\n",
      "slice_code      : unknown\n",
      "xyzt_units      : 0\n",
      "cal_max         : 0.0\n",
      "cal_min         : 0.0\n",
      "slice_duration  : 0.0\n",
      "toffset         : 0.0\n",
      "glmax           : 0\n",
      "glmin           : 0\n",
      "descrip         : b''\n",
      "aux_file        : b''\n",
      "qform_code      : unknown\n",
      "sform_code      : aligned\n",
      "quatern_b       : 0.0\n",
      "quatern_c       : 1.0\n",
      "quatern_d       : 0.0\n",
      "qoffset_x       : 90.0\n",
      "qoffset_y       : -126.0\n",
      "qoffset_z       : -72.0\n",
      "srow_x          : [-2.  0.  0. 90.]\n",
      "srow_y          : [   0.    2.    0. -126.]\n",
      "srow_z          : [  0.   0.   2. -72.]\n",
      "intent_name     : b''\n",
      "magic           : b'n+1'\n"
     ]
    }
   ],
   "source": [
    "nifti = nib.load(path_to_brain)\n",
    "print(nifti)"
   ]
  },
  {
   "cell_type": "markdown",
   "id": "young-resistance",
   "metadata": {},
   "source": [
    "The image data can be extracted by using the *get_fdata()* function of the nifti object."
   ]
  },
  {
   "cell_type": "code",
   "execution_count": 99,
   "id": "atomic-optimization",
   "metadata": {},
   "outputs": [
    {
     "name": "stdout",
     "output_type": "stream",
     "text": [
      "float64 (91, 109, 91)\n"
     ]
    }
   ],
   "source": [
    "brain_array = nifti.get_fdata()\n",
    "print(brain_array.dtype, brain_array.shape)"
   ]
  },
  {
   "cell_type": "markdown",
   "id": "south-scratch",
   "metadata": {},
   "source": [
    "We finally can take a look at the brain scan. <br />\n",
    "To do so we plot all slices in a for loop and use clear_output to keep the visualization running.\n",
    "We plot all three orientations of the scan:\n",
    "1. Coronal\n",
    "2. Sagital\n",
    "3. Axial\n",
    "\n",
    "You can always choose the way you want to look at 3D images depending on the axis you index\n",
    "\n",
    "Don't forget to pass cmap=\"bone\" to imshow, otherwise your image will look quite odd"
   ]
  },
  {
   "cell_type": "markdown",
   "id": "naked-leather",
   "metadata": {},
   "source": [
    "## Coronal orientation"
   ]
  },
  {
   "cell_type": "code",
   "execution_count": 116,
   "id": "responsible-above",
   "metadata": {},
   "outputs": [
    {
     "data": {
      "image/png": "[encoded data removed]",
      "text/plain": [
       "<Figure size 432x288 with 1 Axes>"
      ]
     },
     "metadata": {
      "needs_background": "light"
     },
     "output_type": "display_data"
    }
   ],
   "source": [
    "plt.figure()\n",
    "for i in range(brain_array.shape[1]):\n",
    "    rotated_scan = rot90(brain_array[:,i,:], 1)\n",
    "    plt.imshow(rotated_scan,cmap=\"bone\")\n",
    "    plt.show()\n",
    "    plt.axis(\"off\")\n",
    "    clear_output(wait=True)"
   ]
  },
  {
   "cell_type": "markdown",
   "id": "hidden-plate",
   "metadata": {},
   "source": [
    "## Sagital orientation"
   ]
  },
  {
   "cell_type": "code",
   "execution_count": 115,
   "id": "incorrect-jesus",
   "metadata": {},
   "outputs": [
    {
     "data": {
      "image/png": "[encoded data removed]",
      "text/plain": [
       "<Figure size 432x288 with 1 Axes>"
      ]
     },
     "metadata": {
      "needs_background": "light"
     },
     "output_type": "display_data"
    }
   ],
   "source": [
    "plt.figure()\n",
    "for i in range(brain_array.shape[0]):\n",
    "    rotated_scan = rot90(brain_array[i,:,:], 1)\n",
    "    plt.imshow(rotated_scan,cmap=\"bone\")\n",
    "    plt.show()\n",
    "    plt.axis(\"off\")\n",
    "    clear_output(wait=True)"
   ]
  },
  {
   "cell_type": "markdown",
   "id": "mexican-warner",
   "metadata": {},
   "source": [
    "## Axial orientation"
   ]
  },
  {
   "cell_type": "code",
   "execution_count": 105,
   "id": "alpha-ordering",
   "metadata": {},
   "outputs": [
    {
     "data": {
      "image/png": "[encoded data removed]",
      "text/plain": [
       "<Figure size 432x288 with 1 Axes>"
      ]
     },
     "metadata": {
      "needs_background": "light"
     },
     "output_type": "display_data"
    }
   ],
   "source": [
    "plt.figure()\n",
    "for i in range(brain_array.shape[2]):\n",
    "    rotated_scan = rot90(brain_array[:,:,i], 1)\n",
    "    plt.imshow(rotated_scan,cmap=\"bone\")\n",
    "    plt.show()\n",
    "    plt.axis(\"off\")\n",
    "    clear_output(wait=True)"
   ]
  }
 ],
 "metadata": {
  "kernelspec": {
   "display_name": "udemy",
   "language": "python",
   "name": "udemy"
  },
  "language_info": {
   "codemirror_mode": {
    "name": "ipython",
    "version": 3
   },
   "file_extension": ".py",
   "mimetype": "text/x-python",
   "name": "python",
   "nbconvert_exporter": "python",
   "pygments_lexer": "ipython3",
   "version": "3.8.0"
  }
 },
 "nbformat": 4,
 "nbformat_minor": 5
}
